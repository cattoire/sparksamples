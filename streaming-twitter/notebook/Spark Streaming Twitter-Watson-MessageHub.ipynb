{
 "cells": [
  {
   "cell_type": "markdown",
   "metadata": {},
   "source": [
    "#Spark Streaming sample application using Twitter, Watson Tone Analyzer, Event Hub and Message Hub\n",
    "In this Notebook, we show how to run a Spark Streaming application using a Notebook. There are multiple limitations to be aware of:  \n",
    "1. The application will stop when the page is refreshed or closed\n",
    "2. As events are being processed, the application generates lots of console output which may cause memory to build up in the browser. Therefore it is not recommended to run the application for too long  \n",
    "\n",
    "The code can be found here: https://github.com/ibm-cds-labs/spark.samples/tree/master/streaming-twitter.\n",
    "The following code is using a pre-built jar that has been posted on the Github project, but you can replace with your own url if needed."
   ]
  },
  {
   "cell_type": "code",
   "execution_count": null,
   "metadata": {
    "collapsed": false
   },
   "outputs": [],
   "source": [
    "%AddJar https://github.com/DTAIEB/demos/raw/master/streaming-twitter-assembly-1.4.jar -f"
   ]
  },
  {
   "cell_type": "markdown",
   "metadata": {},
   "source": [
    "##Set up the credentials for the different services\n",
    "Please refer to the tutorial for details on how to find the credentials for all the services, then add the value in the placeholders specified in the code below"
   ]
  },
  {
   "cell_type": "code",
   "execution_count": null,
   "metadata": {
    "collapsed": false
   },
   "outputs": [],
   "source": [
    "val demo = com.ibm.cds.spark.samples.MessageHubStreamingTwitter\n",
    "val config = demo.getConfig()\n",
    "\n",
    "//Watson Tone Analyzer service\n",
    "config.setConfig(\"watson.tone.url\",\"https://gateway.watsonplatform.net/tone-analyzer-experimental/api\")\n",
    "config.setConfig(\"watson.tone.password\",\"XXXX\")\n",
    "config.setConfig(\"watson.tone.username\",\"XXXX\")\n",
    "\n",
    "//Message Hub/Kafka service\n",
    "config.setConfig(\"bootstrap.servers\",\"kafka01-prod01.messagehub.services.us-south.bluemix.net:9094,kafka02-prod01.messagehub.services.us-south.bluemix.net:9094,kafka03-prod01.messagehub.services.us-south.bluemix.net:9094,kafka04-prod01.messagehub.services.us-south.bluemix.net:9094,kafka05-prod01.messagehub.services.us-south.bluemix.net:9094\")\n",
    "config.setConfig(\"api_key\",\"XXXX\")\n",
    "config.setConfig(\"kafka.topic.tweet\",\"twitter-spark\")\n",
    "config.setConfig(\"kafka.user.name\",\"XXXX\")\n",
    "config.setConfig(\"kafka.user.password\",\"XXXX\")\n",
    "config.setConfig(\"kafka_rest_url\",\"https://kafka-rest-prod01.messagehub.services.us-south.bluemix.net:443\")\n",
    "\n",
    "//Spark Streaming checkpointing configuration with Object Storage Swift container\n",
    "config.setConfig(\"name\",\"spark\");\n",
    "config.setConfig(\"auth_url\",\"https://identity.open.softlayer.com\");\n",
    "config.setConfig(\"project_id\",\"XXXX\");\n",
    "config.setConfig(\"region\",\"dallas\");\n",
    "config.setConfig(\"user_id\",\"XXXX\");\n",
    "config.setConfig(\"password\",\"XXXX\");\n",
    "config.setConfig(\"checkpointDir\", \"swift://notebooks.spark/ssc\")"
   ]
  },
  {
   "cell_type": "markdown",
   "metadata": {},
   "source": [
    "##Start the Spark Stream to collect tweets from Message Hub\n",
    "Start a new Twitter Stream that collects the live tweets and enrich them with Sentiment Analysis scores. The stream is run for a duration specified in the second argument of the **startTwitterStreaming** method.\n",
    "Note: if no duration is specified then the stream will run until the **stopTwitterStreaming** method is called."
   ]
  },
  {
   "cell_type": "code",
   "execution_count": null,
   "metadata": {
    "collapsed": false
   },
   "outputs": [],
   "source": [
    "demo.startTwitterStreaming(sc)"
   ]
  },
  {
   "cell_type": "code",
   "execution_count": null,
   "metadata": {
    "collapsed": false
   },
   "outputs": [],
   "source": [
    "demo.stopTwitterStreaming"
   ]
  }
 ],
 "metadata": {
  "kernelspec": {
   "display_name": "Scala 2.10",
   "language": "scala",
   "name": "spark"
  },
  "language_info": {
   "name": "scala"
  },
  "name": "Twitter + Watson Tone Analyzer Part 1.ipynb"
 },
 "nbformat": 4,
 "nbformat_minor": 0
}